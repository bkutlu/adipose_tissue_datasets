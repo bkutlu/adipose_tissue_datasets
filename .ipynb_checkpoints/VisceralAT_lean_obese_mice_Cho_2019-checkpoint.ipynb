{
 "cells": [
  {
   "cell_type": "markdown",
   "metadata": {},
   "source": [
    "# Cho et al study from Mayo"
   ]
  },
  {
   "cell_type": "markdown",
   "metadata": {},
   "source": [
    "__Excerpts from Abstract__: Single-cell RNA sequencing to create a cellular atlas of APC heterogeneity in mouse visceral adipose tissue. Our analysis identified two distinct populations of adipose tissue-derived stem cells (ASCs) and three distinct populations of preadipocytes (PAs)\n",
    "\n",
    "\n",
    "\n",
    "We will analyze data using the **kallisto | bustools** `kbtools` from Lior Pachter lab. This notebook is adapted from the incredible resources available [here](https://www.kallistobus.tools/)"
   ]
  },
  {
   "cell_type": "markdown",
   "metadata": {},
   "source": [
    "## Setup"
   ]
  },
  {
   "cell_type": "code",
   "execution_count": 2,
   "metadata": {},
   "outputs": [],
   "source": [
    "# This is  used to time the running of the notebook\n",
    "import time\n",
    "start_time = time.time()"
   ]
  },
  {
   "cell_type": "markdown",
   "metadata": {},
   "source": [
    "### Install python packages"
   ]
  },
  {
   "cell_type": "code",
   "execution_count": 3,
   "metadata": {},
   "outputs": [
    {
     "name": "stdout",
     "output_type": "stream",
     "text": [
      "Requirement already satisfied: matplotlib in c:\\users\\bukt\\appdata\\local\\continuum\\miniconda3\\lib\\site-packages (3.1.0)\n",
      "Requirement already satisfied: cycler>=0.10 in c:\\users\\bukt\\appdata\\local\\continuum\\miniconda3\\lib\\site-packages (from matplotlib) (0.10.0)\n",
      "Requirement already satisfied: kiwisolver>=1.0.1 in c:\\users\\bukt\\appdata\\local\\continuum\\miniconda3\\lib\\site-packages (from matplotlib) (1.1.0)\n",
      "Requirement already satisfied: pyparsing!=2.0.4,!=2.1.2,!=2.1.6,>=2.0.1 in c:\\users\\bukt\\appdata\\local\\continuum\\miniconda3\\lib\\site-packages (from matplotlib) (2.4.0)\n",
      "Requirement already satisfied: python-dateutil>=2.1 in c:\\users\\bukt\\appdata\\local\\continuum\\miniconda3\\lib\\site-packages (from matplotlib) (2.8.0)\n",
      "Requirement already satisfied: numpy>=1.11 in c:\\users\\bukt\\appdata\\local\\continuum\\miniconda3\\lib\\site-packages (from matplotlib) (1.16.4)\n",
      "Requirement already satisfied: six in c:\\users\\bukt\\appdata\\local\\continuum\\miniconda3\\lib\\site-packages (from cycler>=0.10->matplotlib) (1.12.0)\n",
      "Requirement already satisfied: setuptools in c:\\users\\bukt\\appdata\\local\\continuum\\miniconda3\\lib\\site-packages (from kiwisolver>=1.0.1->matplotlib) (41.0.0)\n",
      "Requirement already satisfied: scikit-learn in c:\\users\\bukt\\appdata\\local\\continuum\\miniconda3\\lib\\site-packages (0.21.2)\n",
      "Requirement already satisfied: joblib>=0.11 in c:\\users\\bukt\\appdata\\local\\continuum\\miniconda3\\lib\\site-packages (from scikit-learn) (0.13.2)\n",
      "Requirement already satisfied: numpy>=1.11.0 in c:\\users\\bukt\\appdata\\local\\continuum\\miniconda3\\lib\\site-packages (from scikit-learn) (1.16.4)\n",
      "Requirement already satisfied: scipy>=0.17.0 in c:\\users\\bukt\\appdata\\local\\continuum\\miniconda3\\lib\\site-packages (from scikit-learn) (1.2.1)\n",
      "Requirement already satisfied: numpy in c:\\users\\bukt\\appdata\\local\\continuum\\miniconda3\\lib\\site-packages (1.16.4)\n",
      "Requirement already satisfied: scipy in c:\\users\\bukt\\appdata\\local\\continuum\\miniconda3\\lib\\site-packages (1.2.1)\n"
     ]
    }
   ],
   "source": [
    "!pip install matplotlib\n",
    "!pip install scikit-learn\n",
    "!pip install numpy\n",
    "!pip install scipy"
   ]
  },
  {
   "cell_type": "code",
   "execution_count": 5,
   "metadata": {},
   "outputs": [
    {
     "name": "stdout",
     "output_type": "stream",
     "text": [
      "Requirement already satisfied: kb-python in c:\\users\\bukt\\appdata\\local\\continuum\\miniconda3\\lib\\site-packages (0.24.1)\n",
      "Requirement already satisfied: loompy>=3.0.6 in c:\\users\\bukt\\appdata\\local\\continuum\\miniconda3\\lib\\site-packages (from kb-python) (3.0.6)\n",
      "Requirement already satisfied: anndata>=0.6.22.post1 in c:\\users\\bukt\\appdata\\local\\continuum\\miniconda3\\lib\\site-packages (from kb-python) (0.7.1)\n",
      "Requirement already satisfied: h5py in c:\\users\\bukt\\appdata\\local\\continuum\\miniconda3\\lib\\site-packages (from loompy>=3.0.6->kb-python) (2.10.0)\n",
      "Requirement already satisfied: numpy in c:\\users\\bukt\\appdata\\local\\continuum\\miniconda3\\lib\\site-packages (from loompy>=3.0.6->kb-python) (1.16.4)\n",
      "Requirement already satisfied: numpy-groupies in c:\\users\\bukt\\appdata\\local\\continuum\\miniconda3\\lib\\site-packages (from loompy>=3.0.6->kb-python) (0+unknown)\n",
      "Requirement already satisfied: numba in c:\\users\\bukt\\appdata\\local\\continuum\\miniconda3\\lib\\site-packages (from loompy>=3.0.6->kb-python) (0.49.1)\n",
      "Requirement already satisfied: setuptools in c:\\users\\bukt\\appdata\\local\\continuum\\miniconda3\\lib\\site-packages (from loompy>=3.0.6->kb-python) (41.0.0)\n",
      "Requirement already satisfied: click in c:\\users\\bukt\\appdata\\local\\continuum\\miniconda3\\lib\\site-packages (from loompy>=3.0.6->kb-python) (7.1.2)\n",
      "Requirement already satisfied: scipy in c:\\users\\bukt\\appdata\\local\\continuum\\miniconda3\\lib\\site-packages (from loompy>=3.0.6->kb-python) (1.2.1)\n",
      "Requirement already satisfied: natsort in c:\\users\\bukt\\appdata\\local\\continuum\\miniconda3\\lib\\site-packages (from anndata>=0.6.22.post1->kb-python) (7.0.1)\n",
      "Requirement already satisfied: importlib-metadata>=0.7; python_version < \"3.8\" in c:\\users\\bukt\\appdata\\local\\continuum\\miniconda3\\lib\\site-packages (from anndata>=0.6.22.post1->kb-python) (1.6.0)\n",
      "Requirement already satisfied: pandas>=0.23.0 in c:\\users\\bukt\\appdata\\local\\continuum\\miniconda3\\lib\\site-packages (from anndata>=0.6.22.post1->kb-python) (0.24.2)\n",
      "Requirement already satisfied: packaging in c:\\users\\bukt\\appdata\\local\\continuum\\miniconda3\\lib\\site-packages (from anndata>=0.6.22.post1->kb-python) (20.3)\n",
      "Requirement already satisfied: six in c:\\users\\bukt\\appdata\\local\\continuum\\miniconda3\\lib\\site-packages (from h5py->loompy>=3.0.6->kb-python) (1.12.0)\n",
      "Requirement already satisfied: llvmlite<=0.33.0.dev0,>=0.31.0.dev0 in c:\\users\\bukt\\appdata\\local\\continuum\\miniconda3\\lib\\site-packages (from numba->loompy>=3.0.6->kb-python) (0.32.1)\n",
      "Requirement already satisfied: zipp>=0.5 in c:\\users\\bukt\\appdata\\local\\continuum\\miniconda3\\lib\\site-packages (from importlib-metadata>=0.7; python_version < \"3.8\"->anndata>=0.6.22.post1->kb-python) (3.1.0)\n",
      "Requirement already satisfied: pytz>=2011k in c:\\users\\bukt\\appdata\\local\\continuum\\miniconda3\\lib\\site-packages (from pandas>=0.23.0->anndata>=0.6.22.post1->kb-python) (2019.1)\n",
      "Requirement already satisfied: python-dateutil>=2.5.0 in c:\\users\\bukt\\appdata\\local\\continuum\\miniconda3\\lib\\site-packages (from pandas>=0.23.0->anndata>=0.6.22.post1->kb-python) (2.8.0)\n",
      "Requirement already satisfied: pyparsing>=2.0.2 in c:\\users\\bukt\\appdata\\local\\continuum\\miniconda3\\lib\\site-packages (from packaging->anndata>=0.6.22.post1->kb-python) (2.4.0)\n",
      "Wall time: 1.82 s\n"
     ]
    }
   ],
   "source": [
    "%%time\n",
    "# `kb` is a wrapper for the kallisto and bustools program, and the kb-python package contains the kallisto and bustools executables.\n",
    "!pip install kb-python"
   ]
  },
  {
   "cell_type": "code",
   "execution_count": null,
   "metadata": {},
   "outputs": [],
   "source": [
    "%%time\n",
    "# Install scanpy and other packages needed for single-cell RNA-seq analysis\n",
    "!pip install scanpy python-igraph louvain MulticoreTSNE pybiomart"
   ]
  },
  {
   "cell_type": "code",
   "execution_count": null,
   "metadata": {},
   "outputs": [],
   "source": [
    "# Import packages\n",
    "import anndata\n",
    "import matplotlib\n",
    "import matplotlib.pyplot as plt\n",
    "import numpy as np\n",
    "import pandas as pd\n",
    "import scanpy as sc\n",
    "from sklearn.decomposition import TruncatedSVD\n",
    "from scipy import sparse, io\n",
    "\n",
    "matplotlib.rcParams.update({'font.size': 12})\n",
    "%config InlineBackend.figure_format = 'retina'"
   ]
  },
  {
   "cell_type": "markdown",
   "metadata": {},
   "source": [
    "### Download the kallisto index for mouse"
   ]
  },
  {
   "cell_type": "markdown",
   "metadata": {},
   "source": [
    "This data consists of cells from a mouse visceral adipose tissue, so we download the mouse index (GRCm38.98 from [Ensembl](https://uswest.ensembl.org/index.html))."
   ]
  },
  {
   "cell_type": "code",
   "execution_count": null,
   "metadata": {},
   "outputs": [],
   "source": [
    "!kb ref -d mouse -i index.idx -g t2g.txt -f1 transcriptome.fasta"
   ]
  },
  {
   "cell_type": "markdown",
   "metadata": {},
   "source": [
    "## Pseudoalignment and counting\n",
    "\n",
    "The data we will process was produced with **10xv2**. For a comprehensive list run `kb --list`"
   ]
  },
  {
   "cell_type": "code",
   "execution_count": 8,
   "metadata": {},
   "outputs": [
    {
     "name": "stdout",
     "output_type": "stream",
     "text": [
      "List of supported single-cell technologies\n",
      "\n",
      "name        whitelist provided    barcode (file #, start, stop)        umi (file #, start, stop)    read file #    \n",
      "--------    ------------------    ---------------------------------    -------------------------    -----------    \n",
      "10XV1       yes                   (2, 0, 0)                            (1, 0, 0)                    0              \n",
      "10XV2       yes                   (0, 0, 16)                           (0, 16, 26)                  1              \n",
      "10XV3       yes                   (0, 0, 16)                           (0, 16, 28)                  1              \n",
      "CELSEQ                            (0, 0, 8)                            (0, 8, 12)                   1              \n",
      "CELSEQ2                           (0, 6, 12)                           (0, 0, 6)                    1              \n",
      "DROPSEQ                           (0, 0, 12)                           (0, 12, 20)                  1              \n",
      "INDROPS     yes                   (0, 0, 11) (0, 30, 38)               (0, 42, 48)                  1              \n",
      "SCRUBSEQ                          (0, 0, 6)                            (0, 6, 16)                   1              \n",
      "SURECELL                          (0, 0, 6) (0, 21, 27) (0, 42, 48)    (0, 51, 59)                  1              \n"
     ]
    }
   ],
   "source": [
    "!kb --list"
   ]
  },
  {
   "cell_type": "markdown",
   "metadata": {},
   "source": [
    "### Run kallisto and bustools\n",
    "\n",
    "The following command will generate an RNA count matrix of cells (rows) by genes (columns) in H5AD format, which is a binary format used to store [Anndata](https://anndata.readthedocs.io/en/stable/) objects. Notice that this requires providing the index and transcript-to-gene mapping downloaded in the previous step to the `-i` and `-g` arguments respectively. Also, since the reads were generated with the 10x Genomics Chromium Single Cell v2 Chemistry, the `-x 10xv2` argument is used. To view other supported technologies, run `kb --list`.\n",
    "\n",
    "__Note:__ To output a [Loom](https://linnarssonlab.org/loompy/format/index.html) file instead, replace the `--h5ad` flag with `--loom`. To obtain the raw matrix output by `kb` instead of the H5AD or Loom converted files, omit these flags."
   ]
  },
  {
   "cell_type": "code",
   "execution_count": null,
   "metadata": {},
   "outputs": [],
   "source": [
    "%%time\n",
    "# This step runs `kb` to pseudoalign the reads, and then generate the cells x gene matrix in h5ad format.\n",
    "!kb count -i index.idx -g t2g.txt -x 10xv2 --h5ad -t 2 \\\n",
    "ftp://ftp.sra.ebi.ac.uk/vol1/fastq/SRR103/078/SRR10305578/SRR10305578_1.fastq.gz ftp://ftp.sra.ebi.ac.uk/vol1/fastq/SRR103/078/SRR10305578/SRR10305578_2.fastq.gz"
   ]
  },
  {
   "cell_type": "markdown",
   "metadata": {},
   "source": [
    "## Basic QC"
   ]
  },
  {
   "cell_type": "code",
   "execution_count": null,
   "metadata": {},
   "outputs": [],
   "source": [
    "# import data\n",
    "adata = anndata.read('counts_unfiltered/adata.h5ad')\n",
    "adata"
   ]
  }
 ],
 "metadata": {
  "kernelspec": {
   "display_name": "Python 3",
   "language": "python",
   "name": "python3"
  },
  "language_info": {
   "codemirror_mode": {
    "name": "ipython",
    "version": 3
   },
   "file_extension": ".py",
   "mimetype": "text/x-python",
   "name": "python",
   "nbconvert_exporter": "python",
   "pygments_lexer": "ipython3",
   "version": "3.7.3"
  }
 },
 "nbformat": 4,
 "nbformat_minor": 2
}
