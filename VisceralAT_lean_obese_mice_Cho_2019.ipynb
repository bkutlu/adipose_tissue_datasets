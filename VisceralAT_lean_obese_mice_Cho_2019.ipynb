{
  "nbformat": 4,
  "nbformat_minor": 0,
  "metadata": {
    "kernelspec": {
      "display_name": "Python 3",
      "language": "python",
      "name": "python3"
    },
    "language_info": {
      "codemirror_mode": {
        "name": "ipython",
        "version": 3
      },
      "file_extension": ".py",
      "mimetype": "text/x-python",
      "name": "python",
      "nbconvert_exporter": "python",
      "pygments_lexer": "ipython3",
      "version": "3.7.3"
    },
    "colab": {
      "name": "VisceralAT_lean_obese_mice_Cho_2019-checkpoint.ipynb",
      "provenance": [],
      "toc_visible": true,
      "include_colab_link": true
    }
  },
  "cells": [
    {
      "cell_type": "markdown",
      "metadata": {
        "id": "view-in-github",
        "colab_type": "text"
      },
      "source": [
        "<a href=\"https://colab.research.google.com/github/bkutlu/adipose_tissue_datasets/blob/master/VisceralAT_lean_obese_mice_Cho_2019.ipynb\" target=\"_parent\"><img src=\"https://colab.research.google.com/assets/colab-badge.svg\" alt=\"Open In Colab\"/></a>"
      ]
    },
    {
      "cell_type": "markdown",
      "metadata": {
        "id": "ECueal6TTbOe",
        "colab_type": "text"
      },
      "source": [
        "# Cho et al study from Mayo"
      ]
    },
    {
      "cell_type": "markdown",
      "metadata": {
        "id": "jujU06s4TbOg",
        "colab_type": "text"
      },
      "source": [
        "__Excerpts from Abstract__: Single-cell RNA sequencing to create a cellular atlas of APC heterogeneity in mouse visceral adipose tissue. Our analysis identified two distinct populations of adipose tissue-derived stem cells (ASCs) and three distinct populations of preadipocytes (PAs)\n",
        "\n",
        "\n",
        "\n",
        "We will analyze data using the **kallisto | bustools** `kbtools` from Lior Pachter lab. This notebook is adapted from the incredible resources available [here](https://www.kallistobus.tools/)"
      ]
    },
    {
      "cell_type": "markdown",
      "metadata": {
        "id": "659QXm5OTbOh",
        "colab_type": "text"
      },
      "source": [
        "## Setup"
      ]
    },
    {
      "cell_type": "code",
      "metadata": {
        "id": "nh0CaSDmTbOi",
        "colab_type": "code",
        "colab": {}
      },
      "source": [
        "# This is  used to time the running of the notebook\n",
        "import time\n",
        "start_time = time.time()"
      ],
      "execution_count": 0,
      "outputs": []
    },
    {
      "cell_type": "markdown",
      "metadata": {
        "id": "5geV_WdATbOm",
        "colab_type": "text"
      },
      "source": [
        "### Install python packages"
      ]
    },
    {
      "cell_type": "code",
      "metadata": {
        "id": "twreUwz_TbOn",
        "colab_type": "code",
        "outputId": "51a93df7-346e-4539-ec08-50a69553996b",
        "colab": {
          "base_uri": "https://localhost:8080/",
          "height": 255
        }
      },
      "source": [
        "!pip install matplotlib\n",
        "!pip install scikit-learn\n",
        "!pip install numpy\n",
        "!pip install scipy"
      ],
      "execution_count": 4,
      "outputs": [
        {
          "output_type": "stream",
          "text": [
            "Requirement already satisfied: matplotlib in /usr/local/lib/python3.6/dist-packages (3.2.1)\n",
            "Requirement already satisfied: pyparsing!=2.0.4,!=2.1.2,!=2.1.6,>=2.0.1 in /usr/local/lib/python3.6/dist-packages (from matplotlib) (2.4.7)\n",
            "Requirement already satisfied: cycler>=0.10 in /usr/local/lib/python3.6/dist-packages (from matplotlib) (0.10.0)\n",
            "Requirement already satisfied: kiwisolver>=1.0.1 in /usr/local/lib/python3.6/dist-packages (from matplotlib) (1.2.0)\n",
            "Requirement already satisfied: numpy>=1.11 in /usr/local/lib/python3.6/dist-packages (from matplotlib) (1.18.4)\n",
            "Requirement already satisfied: python-dateutil>=2.1 in /usr/local/lib/python3.6/dist-packages (from matplotlib) (2.8.1)\n",
            "Requirement already satisfied: six in /usr/local/lib/python3.6/dist-packages (from cycler>=0.10->matplotlib) (1.12.0)\n",
            "Requirement already satisfied: scikit-learn in /usr/local/lib/python3.6/dist-packages (0.22.2.post1)\n",
            "Requirement already satisfied: numpy>=1.11.0 in /usr/local/lib/python3.6/dist-packages (from scikit-learn) (1.18.4)\n",
            "Requirement already satisfied: joblib>=0.11 in /usr/local/lib/python3.6/dist-packages (from scikit-learn) (0.14.1)\n",
            "Requirement already satisfied: scipy>=0.17.0 in /usr/local/lib/python3.6/dist-packages (from scikit-learn) (1.4.1)\n",
            "Requirement already satisfied: numpy in /usr/local/lib/python3.6/dist-packages (1.18.4)\n",
            "Requirement already satisfied: scipy in /usr/local/lib/python3.6/dist-packages (1.4.1)\n",
            "Requirement already satisfied: numpy>=1.13.3 in /usr/local/lib/python3.6/dist-packages (from scipy) (1.18.4)\n"
          ],
          "name": "stdout"
        }
      ]
    },
    {
      "cell_type": "code",
      "metadata": {
        "id": "O7CM8q58TbOr",
        "colab_type": "code",
        "outputId": "3d7a65c7-ec8b-4e0a-b540-d353fce9c20d",
        "colab": {
          "base_uri": "https://localhost:8080/",
          "height": 717
        }
      },
      "source": [
        "%%time\n",
        "# `kb` is a wrapper for the kallisto and bustools program, and the kb-python package contains the kallisto and bustools executables.\n",
        "!pip install kb-python"
      ],
      "execution_count": 2,
      "outputs": [
        {
          "output_type": "stream",
          "text": [
            "Collecting kb-python\n",
            "\u001b[?25l  Downloading https://files.pythonhosted.org/packages/62/c9/2e5b8fa2cd873a23ae1aeb128b33165d6a9387a2f56ea1fafec1d6d32477/kb_python-0.24.4-py3-none-any.whl (35.4MB)\n",
            "\u001b[K     |████████████████████████████████| 35.4MB 44.9MB/s \n",
            "\u001b[?25hCollecting anndata>=0.6.22.post1\n",
            "\u001b[?25l  Downloading https://files.pythonhosted.org/packages/5b/c8/5c594a95ba293433dfe1cf188075ccbabe495bf2d291be744974aca85ffc/anndata-0.7.1-py3-none-any.whl (97kB)\n",
            "\u001b[K     |████████████████████████████████| 102kB 11.7MB/s \n",
            "\u001b[?25hCollecting loompy>=3.0.6\n",
            "\u001b[?25l  Downloading https://files.pythonhosted.org/packages/36/52/74ed37ae5988522fbf87b856c67c4f80700e6452410b4cd80498c5f416f9/loompy-3.0.6.tar.gz (41kB)\n",
            "\u001b[K     |████████████████████████████████| 51kB 7.9MB/s \n",
            "\u001b[?25hRequirement already satisfied: pandas>=0.23.0 in /usr/local/lib/python3.6/dist-packages (from anndata>=0.6.22.post1->kb-python) (1.0.3)\n",
            "Requirement already satisfied: scipy~=1.0 in /usr/local/lib/python3.6/dist-packages (from anndata>=0.6.22.post1->kb-python) (1.4.1)\n",
            "Requirement already satisfied: h5py in /usr/local/lib/python3.6/dist-packages (from anndata>=0.6.22.post1->kb-python) (2.10.0)\n",
            "Requirement already satisfied: natsort in /usr/local/lib/python3.6/dist-packages (from anndata>=0.6.22.post1->kb-python) (5.5.0)\n",
            "Requirement already satisfied: packaging in /usr/local/lib/python3.6/dist-packages (from anndata>=0.6.22.post1->kb-python) (20.3)\n",
            "Requirement already satisfied: numpy~=1.14 in /usr/local/lib/python3.6/dist-packages (from anndata>=0.6.22.post1->kb-python) (1.18.4)\n",
            "Requirement already satisfied: importlib-metadata>=0.7; python_version < \"3.8\" in /usr/local/lib/python3.6/dist-packages (from anndata>=0.6.22.post1->kb-python) (1.6.0)\n",
            "Requirement already satisfied: setuptools in /usr/local/lib/python3.6/dist-packages (from loompy>=3.0.6->kb-python) (46.1.3)\n",
            "Requirement already satisfied: numba in /usr/local/lib/python3.6/dist-packages (from loompy>=3.0.6->kb-python) (0.48.0)\n",
            "Requirement already satisfied: click in /usr/local/lib/python3.6/dist-packages (from loompy>=3.0.6->kb-python) (7.1.2)\n",
            "Collecting numpy-groupies\n",
            "\u001b[?25l  Downloading https://files.pythonhosted.org/packages/57/ae/18217b57ba3e4bb8a44ecbfc161ed065f6d1b90c75d404bd6ba8d6f024e2/numpy_groupies-0.9.10.tar.gz (43kB)\n",
            "\u001b[K     |████████████████████████████████| 51kB 7.5MB/s \n",
            "\u001b[?25hRequirement already satisfied: python-dateutil>=2.6.1 in /usr/local/lib/python3.6/dist-packages (from pandas>=0.23.0->anndata>=0.6.22.post1->kb-python) (2.8.1)\n",
            "Requirement already satisfied: pytz>=2017.2 in /usr/local/lib/python3.6/dist-packages (from pandas>=0.23.0->anndata>=0.6.22.post1->kb-python) (2018.9)\n",
            "Requirement already satisfied: six in /usr/local/lib/python3.6/dist-packages (from h5py->anndata>=0.6.22.post1->kb-python) (1.12.0)\n",
            "Requirement already satisfied: pyparsing>=2.0.2 in /usr/local/lib/python3.6/dist-packages (from packaging->anndata>=0.6.22.post1->kb-python) (2.4.7)\n",
            "Requirement already satisfied: zipp>=0.5 in /usr/local/lib/python3.6/dist-packages (from importlib-metadata>=0.7; python_version < \"3.8\"->anndata>=0.6.22.post1->kb-python) (3.1.0)\n",
            "Requirement already satisfied: llvmlite<0.32.0,>=0.31.0dev0 in /usr/local/lib/python3.6/dist-packages (from numba->loompy>=3.0.6->kb-python) (0.31.0)\n",
            "Building wheels for collected packages: loompy, numpy-groupies\n",
            "  Building wheel for loompy (setup.py) ... \u001b[?25l\u001b[?25hdone\n",
            "  Created wheel for loompy: filename=loompy-3.0.6-cp36-none-any.whl size=47895 sha256=229eb9e169961a5e56119d9f25ea3be75172d16ef940e2a78c60a55d5e1f9b4d\n",
            "  Stored in directory: /root/.cache/pip/wheels/f9/a4/90/5a98ad83419732b0fba533b81a2a52ba3dbe230a936ca4cdc9\n",
            "  Building wheel for numpy-groupies (setup.py) ... \u001b[?25l\u001b[?25hdone\n",
            "  Created wheel for numpy-groupies: filename=numpy_groupies-0+unknown-cp36-none-any.whl size=28042 sha256=10dc082668bdc982cfa799227a391eabab1a2f4518a03be4d8f920636d3d81ee\n",
            "  Stored in directory: /root/.cache/pip/wheels/30/ac/83/64d5f9293aeaec63f9539142fc629a41af064cae1b3d8d94aa\n",
            "Successfully built loompy numpy-groupies\n",
            "Installing collected packages: anndata, numpy-groupies, loompy, kb-python\n",
            "Successfully installed anndata-0.7.1 kb-python-0.24.4 loompy-3.0.6 numpy-groupies-0+unknown\n",
            "CPU times: user 84.2 ms, sys: 24.1 ms, total: 108 ms\n",
            "Wall time: 13.8 s\n"
          ],
          "name": "stdout"
        }
      ]
    },
    {
      "cell_type": "code",
      "metadata": {
        "id": "9xP2InJ8TbOx",
        "colab_type": "code",
        "outputId": "0709b505-4108-46f5-8a4d-f1870b0d1cef",
        "colab": {
          "base_uri": "https://localhost:8080/",
          "height": 1000
        }
      },
      "source": [
        "%%time\n",
        "# Install scanpy and other packages needed for single-cell RNA-seq analysis\n",
        "!pip install scanpy python-igraph louvain MulticoreTSNE pybiomart"
      ],
      "execution_count": 6,
      "outputs": [
        {
          "output_type": "stream",
          "text": [
            "Collecting scanpy\n",
            "\u001b[?25l  Downloading https://files.pythonhosted.org/packages/e8/e0/6772a65571401bfc9c28be86cbff8aab0a33d82ae9dd53f238acbaa693bc/scanpy-1.4.6-py3-none-any.whl (7.2MB)\n",
            "\u001b[K     |████████████████████████████████| 7.2MB 2.7MB/s \n",
            "\u001b[?25hCollecting python-igraph\n",
            "\u001b[?25l  Downloading https://files.pythonhosted.org/packages/8b/74/24a1afbf3abaf1d5f393b668192888d04091d1a6d106319661cd4af05406/python_igraph-0.8.2-cp36-cp36m-manylinux2010_x86_64.whl (3.2MB)\n",
            "\u001b[K     |████████████████████████████████| 3.2MB 41.1MB/s \n",
            "\u001b[?25hCollecting louvain\n",
            "\u001b[?25l  Downloading https://files.pythonhosted.org/packages/44/49/d81aafdc4b50d9e812bbebc5eacf8d028363ebe0387165cb4a64703cc8f9/louvain-0.7.0-cp36-cp36m-manylinux2010_x86_64.whl (2.1MB)\n",
            "\u001b[K     |████████████████████████████████| 2.2MB 34.7MB/s \n",
            "\u001b[?25hCollecting MulticoreTSNE\n",
            "  Downloading https://files.pythonhosted.org/packages/2d/e8/2afa896fa4eebfa1d0d0ba2673fddac45582ec0f06b2bdda88108ced5425/MulticoreTSNE-0.1.tar.gz\n",
            "Collecting pybiomart\n",
            "  Downloading https://files.pythonhosted.org/packages/4a/6d/23cf5ae8b0a549a60164c49836c8e8eb393747b5fd00a7b5d9445886e0d8/pybiomart-0.2.0-py3-none-any.whl\n",
            "Requirement already satisfied: numba>=0.41.0 in /usr/local/lib/python3.6/dist-packages (from scanpy) (0.48.0)\n",
            "Requirement already satisfied: pandas>=0.21 in /usr/local/lib/python3.6/dist-packages (from scanpy) (1.0.3)\n",
            "Requirement already satisfied: h5py>=2.10.0 in /usr/local/lib/python3.6/dist-packages (from scanpy) (2.10.0)\n",
            "Requirement already satisfied: packaging in /usr/local/lib/python3.6/dist-packages (from scanpy) (20.3)\n",
            "Requirement already satisfied: umap-learn>=0.3.10 in /usr/local/lib/python3.6/dist-packages (from scanpy) (0.4.2)\n",
            "Requirement already satisfied: tables in /usr/local/lib/python3.6/dist-packages (from scanpy) (3.4.4)\n",
            "Requirement already satisfied: scikit-learn>=0.21.2 in /usr/local/lib/python3.6/dist-packages (from scanpy) (0.22.2.post1)\n",
            "Collecting setuptools-scm\n",
            "  Downloading https://files.pythonhosted.org/packages/4b/c1/118ec08816737cc46b4dd93b22f7a138fbfb14b53f4b4718fd9983e70a50/setuptools_scm-3.5.0-py2.py3-none-any.whl\n",
            "Requirement already satisfied: tqdm in /usr/local/lib/python3.6/dist-packages (from scanpy) (4.41.1)\n",
            "Requirement already satisfied: natsort in /usr/local/lib/python3.6/dist-packages (from scanpy) (5.5.0)\n",
            "Requirement already satisfied: statsmodels>=0.10.0rc2 in /usr/local/lib/python3.6/dist-packages (from scanpy) (0.10.2)\n",
            "Requirement already satisfied: seaborn in /usr/local/lib/python3.6/dist-packages (from scanpy) (0.10.1)\n",
            "Requirement already satisfied: networkx in /usr/local/lib/python3.6/dist-packages (from scanpy) (2.4)\n",
            "Requirement already satisfied: importlib-metadata>=0.7; python_version < \"3.8\" in /usr/local/lib/python3.6/dist-packages (from scanpy) (1.6.0)\n",
            "Requirement already satisfied: matplotlib>=3.1.2 in /usr/local/lib/python3.6/dist-packages (from scanpy) (3.2.1)\n",
            "Requirement already satisfied: scipy>=1.3 in /usr/local/lib/python3.6/dist-packages (from scanpy) (1.4.1)\n",
            "Requirement already satisfied: anndata>=0.7 in /usr/local/lib/python3.6/dist-packages (from scanpy) (0.7.1)\n",
            "Requirement already satisfied: joblib in /usr/local/lib/python3.6/dist-packages (from scanpy) (0.14.1)\n",
            "Collecting legacy-api-wrap\n",
            "  Downloading https://files.pythonhosted.org/packages/a4/68/da997bc56bb69dcdcee4054f0bc42266909307b905389fbc54c9158f42da/legacy_api_wrap-1.2-py3-none-any.whl\n",
            "Requirement already satisfied: patsy in /usr/local/lib/python3.6/dist-packages (from scanpy) (0.5.1)\n",
            "Collecting texttable>=1.6.2\n",
            "  Downloading https://files.pythonhosted.org/packages/ec/b1/8a1c659ce288bf771d5b1c7cae318ada466f73bd0e16df8d86f27a2a3ee7/texttable-1.6.2-py2.py3-none-any.whl\n",
            "Requirement already satisfied: numpy in /usr/local/lib/python3.6/dist-packages (from MulticoreTSNE) (1.18.4)\n",
            "Requirement already satisfied: cffi in /usr/local/lib/python3.6/dist-packages (from MulticoreTSNE) (1.14.0)\n",
            "Collecting requests-cache\n",
            "  Downloading https://files.pythonhosted.org/packages/7f/55/9b1c40eb83c16d8fc79c5f6c2ffade04208b080670fbfc35e0a5effb5a92/requests_cache-0.5.2-py2.py3-none-any.whl\n",
            "Requirement already satisfied: requests in /usr/local/lib/python3.6/dist-packages (from pybiomart) (2.23.0)\n",
            "Requirement already satisfied: future in /usr/local/lib/python3.6/dist-packages (from pybiomart) (0.16.0)\n",
            "Requirement already satisfied: setuptools in /usr/local/lib/python3.6/dist-packages (from numba>=0.41.0->scanpy) (46.1.3)\n",
            "Requirement already satisfied: llvmlite<0.32.0,>=0.31.0dev0 in /usr/local/lib/python3.6/dist-packages (from numba>=0.41.0->scanpy) (0.31.0)\n",
            "Requirement already satisfied: pytz>=2017.2 in /usr/local/lib/python3.6/dist-packages (from pandas>=0.21->scanpy) (2018.9)\n",
            "Requirement already satisfied: python-dateutil>=2.6.1 in /usr/local/lib/python3.6/dist-packages (from pandas>=0.21->scanpy) (2.8.1)\n",
            "Requirement already satisfied: six in /usr/local/lib/python3.6/dist-packages (from h5py>=2.10.0->scanpy) (1.12.0)\n",
            "Requirement already satisfied: pyparsing>=2.0.2 in /usr/local/lib/python3.6/dist-packages (from packaging->scanpy) (2.4.7)\n",
            "Requirement already satisfied: tbb>=2019.0 in /usr/local/lib/python3.6/dist-packages (from umap-learn>=0.3.10->scanpy) (2020.0.133)\n",
            "Requirement already satisfied: numexpr>=2.5.2 in /usr/local/lib/python3.6/dist-packages (from tables->scanpy) (2.7.1)\n",
            "Requirement already satisfied: decorator>=4.3.0 in /usr/local/lib/python3.6/dist-packages (from networkx->scanpy) (4.4.2)\n",
            "Requirement already satisfied: zipp>=0.5 in /usr/local/lib/python3.6/dist-packages (from importlib-metadata>=0.7; python_version < \"3.8\"->scanpy) (3.1.0)\n",
            "Requirement already satisfied: cycler>=0.10 in /usr/local/lib/python3.6/dist-packages (from matplotlib>=3.1.2->scanpy) (0.10.0)\n",
            "Requirement already satisfied: kiwisolver>=1.0.1 in /usr/local/lib/python3.6/dist-packages (from matplotlib>=3.1.2->scanpy) (1.2.0)\n",
            "Collecting get-version>=2.0.4\n",
            "\u001b[?25l  Downloading https://files.pythonhosted.org/packages/23/48/7610e884e62fff2183e7bc8592397c39a020267fb5147905fcd3f9cc820c/get_version-2.1-py3-none-any.whl (43kB)\n",
            "\u001b[K     |████████████████████████████████| 51kB 7.1MB/s \n",
            "\u001b[?25hRequirement already satisfied: pycparser in /usr/local/lib/python3.6/dist-packages (from cffi->MulticoreTSNE) (2.20)\n",
            "Requirement already satisfied: certifi>=2017.4.17 in /usr/local/lib/python3.6/dist-packages (from requests->pybiomart) (2020.4.5.1)\n",
            "Requirement already satisfied: idna<3,>=2.5 in /usr/local/lib/python3.6/dist-packages (from requests->pybiomart) (2.9)\n",
            "Requirement already satisfied: chardet<4,>=3.0.2 in /usr/local/lib/python3.6/dist-packages (from requests->pybiomart) (3.0.4)\n",
            "Requirement already satisfied: urllib3!=1.25.0,!=1.25.1,<1.26,>=1.21.1 in /usr/local/lib/python3.6/dist-packages (from requests->pybiomart) (1.24.3)\n",
            "Building wheels for collected packages: MulticoreTSNE\n",
            "  Building wheel for MulticoreTSNE (setup.py) ... \u001b[?25l\u001b[?25hdone\n",
            "  Created wheel for MulticoreTSNE: filename=MulticoreTSNE-0.1-cp36-cp36m-linux_x86_64.whl size=68502 sha256=6190cd0d372d907bf00cb6c7945a2ec11c95bea25201ab52ad4ed01e1e2508af\n",
            "  Stored in directory: /root/.cache/pip/wheels/27/59/53/3b52ee63add3692254c30d687fa4dff4d128d0557861fb028e\n",
            "Successfully built MulticoreTSNE\n",
            "Installing collected packages: setuptools-scm, get-version, legacy-api-wrap, scanpy, texttable, python-igraph, louvain, MulticoreTSNE, requests-cache, pybiomart\n",
            "Successfully installed MulticoreTSNE-0.1 get-version-2.1 legacy-api-wrap-1.2 louvain-0.7.0 pybiomart-0.2.0 python-igraph-0.8.2 requests-cache-0.5.2 scanpy-1.4.6 setuptools-scm-3.5.0 texttable-1.6.2\n",
            "CPU times: user 75.4 ms, sys: 21.1 ms, total: 96.5 ms\n",
            "Wall time: 14.6 s\n"
          ],
          "name": "stdout"
        }
      ]
    },
    {
      "cell_type": "code",
      "metadata": {
        "id": "X2hRNV9ATbO0",
        "colab_type": "code",
        "colab": {}
      },
      "source": [
        "# Import packages\n",
        "import anndata\n",
        "import matplotlib\n",
        "import matplotlib.pyplot as plt\n",
        "import numpy as np\n",
        "import pandas as pd\n",
        "import scanpy as sc\n",
        "from sklearn.decomposition import TruncatedSVD\n",
        "from scipy import sparse, io\n",
        "\n",
        "matplotlib.rcParams.update({'font.size': 12})\n",
        "%config InlineBackend.figure_format = 'retina'"
      ],
      "execution_count": 0,
      "outputs": []
    },
    {
      "cell_type": "markdown",
      "metadata": {
        "id": "4wXsvXvWTbO3",
        "colab_type": "text"
      },
      "source": [
        "### Download the kallisto index for mouse"
      ]
    },
    {
      "cell_type": "markdown",
      "metadata": {
        "id": "ppwqGSQgTbO3",
        "colab_type": "text"
      },
      "source": [
        "This data consists of cells from a mouse visceral adipose tissue, so we download the mouse index (GRCm38.98 from [Ensembl](https://uswest.ensembl.org/index.html))."
      ]
    },
    {
      "cell_type": "code",
      "metadata": {
        "id": "snfZfnzITbO4",
        "colab_type": "code",
        "outputId": "7ab072ad-ed87-4b48-ec78-0a249a02992d",
        "colab": {
          "base_uri": "https://localhost:8080/",
          "height": 105
        }
      },
      "source": [
        "!kb ref -d mouse -i index.idx -g t2g.txt -f1 transcriptome.fasta"
      ],
      "execution_count": 9,
      "outputs": [
        {
          "output_type": "stream",
          "text": [
            "/usr/local/lib/python3.6/dist-packages/anndata/_core/anndata.py:21: FutureWarning: pandas.core.index is deprecated and will be removed in a future version.  The public classes are available in the top-level namespace.\n",
            "  from pandas.core.index import RangeIndex\n",
            "[2020-05-11 14:18:29,694]    INFO Downloading files for mouse from https://caltech.box.com/shared/static/vcaz6cujop0xuapdmz0pplp3aoqc41si.gz to tmp/vcaz6cujop0xuapdmz0pplp3aoqc41si.gz\n",
            "[2020-05-11 14:19:46,266]    INFO Extracting files from tmp/vcaz6cujop0xuapdmz0pplp3aoqc41si.gz\n"
          ],
          "name": "stdout"
        }
      ]
    },
    {
      "cell_type": "code",
      "metadata": {
        "id": "fcNjyOj2Upnj",
        "colab_type": "code",
        "outputId": "d53943ee-1354-4264-aaa7-0c76e597bc23",
        "colab": {
          "base_uri": "https://localhost:8080/",
          "height": 51
        }
      },
      "source": [
        "!ls cho_et_al/counts_unfiltered/"
      ],
      "execution_count": 17,
      "outputs": [
        {
          "output_type": "stream",
          "text": [
            "adata.h5ad     cells_x_genes.barcodes.txt  cells_x_genes.mtx\n",
            "cells_x_genes  cells_x_genes.genes.txt\n"
          ],
          "name": "stdout"
        }
      ]
    },
    {
      "cell_type": "markdown",
      "metadata": {
        "id": "co7o4cXyTbO6",
        "colab_type": "text"
      },
      "source": [
        "## Pseudoalignment and counting\n",
        "\n",
        "The data we will process was produced with **10xv2**. For a comprehensive list run `kb --list`"
      ]
    },
    {
      "cell_type": "code",
      "metadata": {
        "id": "NiYx8voHTbO7",
        "colab_type": "code",
        "outputId": "7b3dffad-1ffc-4dcf-db8a-0f30efcc39b0",
        "colab": {
          "base_uri": "https://localhost:8080/",
          "height": 326
        }
      },
      "source": [
        "!kb --list"
      ],
      "execution_count": 12,
      "outputs": [
        {
          "output_type": "stream",
          "text": [
            "/usr/local/lib/python3.6/dist-packages/anndata/_core/anndata.py:21: FutureWarning: pandas.core.index is deprecated and will be removed in a future version.  The public classes are available in the top-level namespace.\n",
            "  from pandas.core.index import RangeIndex\n",
            "List of supported single-cell technologies\n",
            "\n",
            "name         whitelist provided    barcode (file #, start, stop)        umi (file #, start, stop)    read file #    \n",
            "---------    ------------------    ---------------------------------    -------------------------    -----------    \n",
            "10XV1        yes                   (2, 0, 0)                            (1, 0, 0)                    0              \n",
            "10XV2        yes                   (0, 0, 16)                           (0, 16, 26)                  1              \n",
            "10XV3        yes                   (0, 0, 16)                           (0, 16, 28)                  1              \n",
            "CELSEQ                             (0, 0, 8)                            (0, 8, 12)                   1              \n",
            "CELSEQ2                            (0, 6, 12)                           (0, 0, 6)                    1              \n",
            "DROPSEQ                            (0, 0, 12)                           (0, 12, 20)                  1              \n",
            "INDROPSV1                          (0, 0, 11) (0, 30, 38)               (0, 42, 48)                  1              \n",
            "INDROPSV2                          (1, 0, 11) (1, 30, 38)               (1, 42, 48)                  0              \n",
            "INDROPSV3    yes                   (0, 0, 8) (1, 0, 8)                  (1, 8, 14)                   2              \n",
            "SCRUBSEQ                           (0, 0, 6)                            (0, 6, 16)                   1              \n",
            "SURECELL                           (0, 0, 6) (0, 21, 27) (0, 42, 48)    (0, 51, 59)                  1              \n"
          ],
          "name": "stdout"
        }
      ]
    },
    {
      "cell_type": "markdown",
      "metadata": {
        "id": "w4xG47paTbO9",
        "colab_type": "text"
      },
      "source": [
        "### Run kallisto and bustools\n",
        "\n",
        "The following command will generate an RNA count matrix of cells (rows) by genes (columns) in H5AD format, which is a binary format used to store [Anndata](https://anndata.readthedocs.io/en/stable/) objects. Notice that this requires providing the index and transcript-to-gene mapping downloaded in the previous step to the `-i` and `-g` arguments respectively. Also, since the reads were generated with the 10x Genomics Chromium Single Cell v2 Chemistry, the `-x 10xv2` argument is used. To view other supported technologies, run `kb --list`.\n",
        "\n",
        "__Note:__ To output a [Loom](https://linnarssonlab.org/loompy/format/index.html) file instead, replace the `--h5ad` flag with `--loom`. To obtain the raw matrix output by `kb` instead of the H5AD or Loom converted files, omit these flags."
      ]
    },
    {
      "cell_type": "code",
      "metadata": {
        "id": "gbxM3lSzTbO-",
        "colab_type": "code",
        "outputId": "193dc097-1d4e-48ee-9e84-bcdba7f1a87a",
        "colab": {
          "base_uri": "https://localhost:8080/",
          "height": 326
        }
      },
      "source": [
        "%%time\n",
        "# This step runs `kb` to pseudoalign the reads, and then generate the cells x gene matrix in h5ad format.\n",
        "!kb count -i index.idx -g t2g.txt -x 10xv2 --h5ad -t 2 -o cho_et_al \\\n",
        "https://sra-pub-src-1.s3.amazonaws.com/SRR10305578/High_Fat_S2_L002_R1_001.fastq.gz.1 \\\n",
        "https://sra-pub-src-1.s3.amazonaws.com/SRR10305578/High_Fat_S2_L002_R2_001.fastq.gz.1"
      ],
      "execution_count": 11,
      "outputs": [
        {
          "output_type": "stream",
          "text": [
            "/usr/local/lib/python3.6/dist-packages/anndata/_core/anndata.py:21: FutureWarning: pandas.core.index is deprecated and will be removed in a future version.  The public classes are available in the top-level namespace.\n",
            "  from pandas.core.index import RangeIndex\n",
            "[2020-05-11 14:35:58,644]    INFO Piping https://sra-pub-src-1.s3.amazonaws.com/SRR10305578/High_Fat_S2_L002_R1_001.fastq.gz.1 to tmp/High_Fat_S2_L002_R1_001.fastq.gz.1\n",
            "[2020-05-11 14:35:58,645]    INFO Piping https://sra-pub-src-1.s3.amazonaws.com/SRR10305578/High_Fat_S2_L002_R2_001.fastq.gz.1 to tmp/High_Fat_S2_L002_R2_001.fastq.gz.1\n",
            "[2020-05-11 14:35:58,646]    INFO Generating BUS file from\n",
            "[2020-05-11 14:35:58,646]    INFO         tmp/High_Fat_S2_L002_R1_001.fastq.gz.1\n",
            "[2020-05-11 14:35:58,646]    INFO         tmp/High_Fat_S2_L002_R2_001.fastq.gz.1\n",
            "[2020-05-11 15:10:05,363]    INFO Sorting BUS file cho_et_al/output.bus to tmp/output.s.bus\n",
            "[2020-05-11 15:12:32,561]    INFO Whitelist not provided\n",
            "[2020-05-11 15:12:32,562]    INFO Copying pre-packaged 10XV2 whitelist to cho_et_al\n",
            "[2020-05-11 15:12:33,510]    INFO Inspecting BUS file tmp/output.s.bus\n",
            "[2020-05-11 15:12:44,483]    INFO Correcting BUS records in tmp/output.s.bus to tmp/output.s.c.bus with whitelist cho_et_al/10xv2_whitelist.txt\n",
            "[2020-05-11 15:13:08,971]    INFO Sorting BUS file tmp/output.s.c.bus to cho_et_al/output.unfiltered.bus\n",
            "[2020-05-11 15:13:55,445]    INFO Generating count matrix cho_et_al/counts_unfiltered/cells_x_genes from BUS file cho_et_al/output.unfiltered.bus\n",
            "[2020-05-11 15:14:06,009]    INFO Converting matrix cho_et_al/counts_unfiltered/cells_x_genes.mtx to h5ad cho_et_al/counts_unfiltered/adata.h5ad\n",
            "CPU times: user 4.7 s, sys: 1.05 s, total: 5.75 s\n",
            "Wall time: 38min 29s\n"
          ],
          "name": "stdout"
        }
      ]
    },
    {
      "cell_type": "markdown",
      "metadata": {
        "id": "alc9K0PMTbPA",
        "colab_type": "text"
      },
      "source": [
        "## Basic QC"
      ]
    },
    {
      "cell_type": "code",
      "metadata": {
        "colab_type": "code",
        "id": "SoCLSBjW_Pcb",
        "colab": {}
      },
      "source": [
        "# Setup\n",
        "\n",
        "import anndata\n",
        "import pandas as pd\n",
        "import numpy as np\n",
        "import matplotlib.pyplot as plt\n",
        "import matplotlib as mpl\n",
        "import matplotlib.patches as mpatches\n",
        "import scanpy as sc\n",
        "from scipy import stats\n",
        "\n",
        "from collections import OrderedDict\n",
        "from sklearn.decomposition import TruncatedSVD\n",
        "from sklearn.manifold import TSNE\n",
        "from sklearn.preprocessing import scale\n",
        "\n",
        "from sklearn.cluster import KMeans\n",
        "from sklearn.preprocessing import normalize\n",
        "from sklearn.preprocessing import LabelEncoder\n",
        "from sklearn.neighbors import NeighborhoodComponentsAnalysis\n",
        "from matplotlib import cm\n",
        "from matplotlib.lines import Line2D\n",
        "\n",
        "def nd(arr):\n",
        "    return np.asarray(arr).reshape(-1)\n",
        "def yex(ax):\n",
        "    lims = [np.min([ax.get_xlim(), ax.get_ylim()]),\n",
        "            np.max([ax.get_xlim(), ax.get_ylim()])]\n",
        "\n",
        "    # now plot both limits against eachother\n",
        "    ax.plot(lims, lims, 'k-', alpha=0.75, zorder=0)\n",
        "    ax.set_aspect('equal')\n",
        "    ax.set_xlim(lims)\n",
        "    ax.set_ylim(lims)\n",
        "    return ax\n",
        "\n",
        "def trim_axs(axs, N):\n",
        "    \"\"\"little helper to massage the axs list to have correct length...\"\"\"\n",
        "    axs = axs.flat\n",
        "    for ax in axs[N:]:\n",
        "        ax.remove()\n",
        "    return axs[:N]\n",
        "\n",
        "import warnings\n",
        "warnings.filterwarnings('ignore')\n",
        "\n",
        "fsize=20\n",
        "\n",
        "plt.rcParams.update({'font.size': fsize})\n",
        "%config InlineBackend.figure_format = 'retina'"
      ],
      "execution_count": 0,
      "outputs": []
    },
    {
      "cell_type": "markdown",
      "metadata": {
        "id": "4ATyidQYyEhJ",
        "colab_type": "text"
      },
      "source": [
        "Next, we populate an object we call `adata` with the gene names, counts, and later other information about the dataset. First, we note that `adata` will contain *gene* counts. Throughout this notebook we focus on single-cell *gene* quantification, but it is possible to learn something about isoforms from all kinds of single-cell RNA-seq data. The ideal technology for studying isoforms is SMART-seq, but it is possible to also extract isoform information from Drop-seq and other droplet based single-cell RNA-seq technologies. For more on this see these two papers:\n",
        "\n",
        "- Ntranos, Vasilis, Lynn Yi, Páll Melsted, and Lior Pachter. \"[A discriminative learning approach to differential expression analysis for single-cell RNA-seq](https://www.nature.com/articles/s41592-018-0303-9).\" Nature methods 16, no. 2 (2019): 163-166.\n",
        "\n",
        "- Booeshaghi, A. Sina, Zizhen Yao, Cindy van Velthoven, Kimberly Smith, Bosiljka Tasic, Hongkui Zeng, and Lior Pachter. \"[Isoform cell type specificity in the mouse primary motor cortex](https://www.biorxiv.org/content/10.1101/2020.03.05.977991v3.full).\" bioRxiv (2020).\n",
        "\n",
        "[Anndata objects](https://icb-anndata.readthedocs-hosted.com/en/stable/anndata.AnnData.html) are a key concept in Scanpy, and very powerful for organizing single-cell RNA-seq analysis.\n"
      ]
    },
    {
      "cell_type": "code",
      "metadata": {
        "id": "z7z5ZjfVTbPA",
        "colab_type": "code",
        "colab": {}
      },
      "source": [
        "# import data\n",
        "adata = anndata.read('cho_et_al/counts_unfiltered/adata.h5ad')\n",
        "adata.var[\"gene_id\"] = adata.var.index.values\n",
        "\n",
        "t2g = pd.read_csv(\"t2g.txt\", header=None, names=[\"tid\", \"gene_id\", \"gene_name\"], sep=\"\\t\")\n",
        "t2g.index = t2g.gene_id\n",
        "t2g = t2g.loc[~t2g.index.duplicated(keep='first')]\n",
        "\n",
        "adata.var[\"gene_name\"] = adata.var.gene_id.map(t2g[\"gene_name\"])\n",
        "adata.var.index = adata.var[\"gene_name\"]"
      ],
      "execution_count": 0,
      "outputs": []
    },
    {
      "cell_type": "code",
      "metadata": {
        "id": "HtCtXbzfycZH",
        "colab_type": "code",
        "colab": {
          "base_uri": "https://localhost:8080/",
          "height": 51
        },
        "outputId": "b22e4718-7ea3-4879-d133-8b3edb4f0614"
      },
      "source": [
        "adata"
      ],
      "execution_count": 19,
      "outputs": [
        {
          "output_type": "execute_result",
          "data": {
            "text/plain": [
              "AnnData object with n_obs × n_vars = 257796 × 55421 \n",
              "    var: 'gene_id', 'gene_name'"
            ]
          },
          "metadata": {
            "tags": []
          },
          "execution_count": 19
        }
      ]
    },
    {
      "cell_type": "markdown",
      "metadata": {
        "id": "r8g3mxzIyiw4",
        "colab_type": "text"
      },
      "source": [
        "## Populate the anndata object"
      ]
    },
    {
      "cell_type": "code",
      "metadata": {
        "id": "vlHycwtMylMY",
        "colab_type": "code",
        "colab": {}
      },
      "source": [
        "# Parameter settings we use throughout the notebook\n",
        "\n",
        "num_TSNE = 2\n",
        "state = 42\n",
        "metric = \"euclidean\"\n",
        "n_neighbors = 30\n",
        "num_PCA = 50\n",
        "num_NCA = 10\n",
        "\n",
        "# Filtering criteria\n",
        "cell_threshold = 100\n",
        "gene_threshold = 3\n",
        "\n",
        "mito_criteria = 30\n",
        "\n",
        "n_top_genes = 5000\n",
        "\n",
        "n_bins = 20\n",
        "\n",
        "flavor=\"seurat\""
      ],
      "execution_count": 0,
      "outputs": []
    },
    {
      "cell_type": "markdown",
      "metadata": {
        "id": "1UqRgNhUyv0S",
        "colab_type": "text"
      },
      "source": [
        "The `flavor = seurat` setting is related to normalization of the data, and is an attempt by Scanpy to allow for analyses concordant with what one would obtain with the R package Seurat. Read more about this [here](https://icb-scanpy.readthedocs-hosted.com/en/1.4.4.post1/api/scanpy.api.pp.filter_genes_dispersion.html)."
      ]
    },
    {
      "cell_type": "code",
      "metadata": {
        "id": "3VNUTmJVyzY_",
        "colab_type": "code",
        "colab": {}
      },
      "source": [
        "adata.obs[\"cell_counts\"] = adata.X.sum(axis=1)\n",
        "adata.var[\"gene_counts\"] = nd(adata.X.sum(axis=0))\n",
        "\n",
        "adata.obs[\"n_genes\"] = nd((adata.X>0).sum(axis=1))\n",
        "adata.var[\"n_cells\"] = nd((adata.X>0).sum(axis=0))\n",
        "\n",
        "mito_genes = adata.var_names.str.startswith('mt-')\n",
        "adata.obs[\"percent_mito\"] = adata[:,mito_genes].X.sum(axis=1)/adata.X.sum(axis=1)*100"
      ],
      "execution_count": 0,
      "outputs": []
    },
    {
      "cell_type": "markdown",
      "metadata": {
        "id": "ZqgptY-Xy2LX",
        "colab_type": "text"
      },
      "source": [
        "## Anndata features"
      ]
    },
    {
      "cell_type": "markdown",
      "metadata": {
        "id": "bPL8KZIry9qT",
        "colab_type": "text"
      },
      "source": [
        "### Examine the knee plot\n",
        "\n",
        "The \"knee plot\" was introduced in the Drop-seq paper: \n",
        "- Macosko et al., [Highly parallel genome-wide expression profiling of individual cells using nanoliter droplets](https://www.cell.com/fulltext/S0092-8674(15)00549-8), 2015. DOI:10.1016/j.cell.2015.05.002\n",
        "\n",
        "In this plot cells are ordered by the number of UMI counts associated to them (shown on the *x*-axis), and the fraction of droplets with at least that number of cells is shown on the *y*-axis:"
      ]
    },
    {
      "cell_type": "code",
      "metadata": {
        "id": "x1_BTUwlzCPb",
        "colab_type": "code",
        "colab": {
          "base_uri": "https://localhost:8080/",
          "height": 354
        },
        "outputId": "ca34da6f-62b3-4af2-be44-b72856d45f0c"
      },
      "source": [
        "#@title Threshold cells according to knee plot { run: \"auto\", vertical-output: true }\n",
        "expected_num_cells = 3000#@param {type:\"integer\"}\n",
        "knee = np.sort(nd(adata.X.sum(axis=1)))[::-1]\n",
        "\n",
        "fig, ax = plt.subplots(figsize=(5, 5))\n",
        "\n",
        "x = knee\n",
        "y = range(len(knee))\n",
        "\n",
        "ax.loglog(x, y, linewidth=5, color=\"g\")\n",
        "\n",
        "ax.axvline(x=knee[expected_num_cells], linewidth=3, color=\"k\")\n",
        "ax.axhline(y=expected_num_cells, linewidth=3, color=\"k\")\n",
        "\n",
        "ax.set_xlabel(\"UMI Counts\")\n",
        "ax.set_ylabel(\"Set of Barcodes\")\n",
        "\n",
        "plt.show()"
      ],
      "execution_count": 31,
      "outputs": [
        {
          "output_type": "display_data",
          "data": {
            "image/png": "[encoded data removed]",
            "text/plain": [
              "<Figure size 360x360 with 1 Axes>"
            ]
          },
          "metadata": {
            "tags": [],
            "image/png": {
              "width": 358,
              "height": 337
            },
            "needs_background": "light"
          }
        }
      ]
    }
  ]
}